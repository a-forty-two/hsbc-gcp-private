{
 "cells": [
  {
   "cell_type": "code",
   "execution_count": 7,
   "id": "06f548ea",
   "metadata": {},
   "outputs": [],
   "source": [
    "# 1 LINE FUNCTION\n",
    "\n",
    "# SYNTAX\n",
    "# name_of_lambda = lambda input: output \n",
    "\n",
    "myadder = lambda x,y : x+y"
   ]
  },
  {
   "cell_type": "code",
   "execution_count": 8,
   "id": "f505474d",
   "metadata": {},
   "outputs": [
    {
     "data": {
      "text/plain": [
       "1"
      ]
     },
     "execution_count": 8,
     "metadata": {},
     "output_type": "execute_result"
    }
   ],
   "source": [
    "myadder(1,0)"
   ]
  },
  {
   "cell_type": "code",
   "execution_count": 4,
   "id": "6648220c",
   "metadata": {},
   "outputs": [
    {
     "data": {
      "text/plain": [
       "16"
      ]
     },
     "execution_count": 4,
     "metadata": {},
     "output_type": "execute_result"
    }
   ],
   "source": [
    "square = lambda a : a*a\n",
    "square(4)"
   ]
  },
  {
   "cell_type": "code",
   "execution_count": 9,
   "id": "e5ff75bd",
   "metadata": {},
   "outputs": [],
   "source": [
    "# dataset = [ 'D', 'ND']\n",
    "mydata = ['D','ND', 'ND', 'ND', 'D', 'D']\n"
   ]
  },
  {
   "cell_type": "code",
   "execution_count": 10,
   "id": "ce2e19c0",
   "metadata": {},
   "outputs": [],
   "source": [
    "encoder = lambda val: 1 if val=='D' else 0"
   ]
  },
  {
   "cell_type": "code",
   "execution_count": 11,
   "id": "796e1e0a",
   "metadata": {},
   "outputs": [
    {
     "data": {
      "text/plain": [
       "1"
      ]
     },
     "execution_count": 11,
     "metadata": {},
     "output_type": "execute_result"
    }
   ],
   "source": [
    "encoder(mydata[0])"
   ]
  },
  {
   "cell_type": "code",
   "execution_count": 12,
   "id": "0e8b1884",
   "metadata": {},
   "outputs": [],
   "source": [
    "# LIST COMPREHENSION\n",
    "encodedData = [ encoder(data) for data in mydata ]"
   ]
  },
  {
   "cell_type": "code",
   "execution_count": 13,
   "id": "01d0b298",
   "metadata": {},
   "outputs": [
    {
     "data": {
      "text/plain": [
       "[1, 0, 0, 0, 1, 1]"
      ]
     },
     "execution_count": 13,
     "metadata": {},
     "output_type": "execute_result"
    }
   ],
   "source": [
    "encodedData"
   ]
  },
  {
   "cell_type": "code",
   "execution_count": null,
   "id": "0e95f304",
   "metadata": {},
   "outputs": [],
   "source": []
  }
 ],
 "metadata": {
  "kernelspec": {
   "display_name": "Python 3 (ipykernel)",
   "language": "python",
   "name": "python3"
  },
  "language_info": {
   "codemirror_mode": {
    "name": "ipython",
    "version": 3
   },
   "file_extension": ".py",
   "mimetype": "text/x-python",
   "name": "python",
   "nbconvert_exporter": "python",
   "pygments_lexer": "ipython3",
   "version": "3.11.5"
  }
 },
 "nbformat": 4,
 "nbformat_minor": 5
}
