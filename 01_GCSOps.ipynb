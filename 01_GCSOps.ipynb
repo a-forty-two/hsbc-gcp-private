{
  "nbformat": 4,
  "nbformat_minor": 0,
  "metadata": {
    "colab": {
      "provenance": []
    },
    "kernelspec": {
      "name": "python3",
      "display_name": "Python 3"
    },
    "language_info": {
      "name": "python"
    }
  },
  "cells": [
    {
      "cell_type": "code",
      "execution_count": 15,
      "metadata": {
        "colab": {
          "base_uri": "https://localhost:8080/"
        },
        "id": "4FYrWDrTaTlE",
        "outputId": "27c149fc-a46f-49a5-f4a7-e41046ce3af9"
      },
      "outputs": [
        {
          "output_type": "stream",
          "name": "stdout",
          "text": [
            "Requirement already satisfied: google-cloud-storage in /usr/local/lib/python3.10/dist-packages (2.8.0)\n",
            "Requirement already satisfied: google-auth<3.0dev,>=1.25.0 in /usr/local/lib/python3.10/dist-packages (from google-cloud-storage) (2.17.3)\n",
            "Requirement already satisfied: google-api-core!=2.0.*,!=2.1.*,!=2.2.*,!=2.3.0,<3.0.0dev,>=1.31.5 in /usr/local/lib/python3.10/dist-packages (from google-cloud-storage) (2.11.1)\n",
            "Requirement already satisfied: google-cloud-core<3.0dev,>=2.3.0 in /usr/local/lib/python3.10/dist-packages (from google-cloud-storage) (2.3.3)\n",
            "Requirement already satisfied: google-resumable-media>=2.3.2 in /usr/local/lib/python3.10/dist-packages (from google-cloud-storage) (2.6.0)\n",
            "Requirement already satisfied: requests<3.0.0dev,>=2.18.0 in /usr/local/lib/python3.10/dist-packages (from google-cloud-storage) (2.31.0)\n",
            "Requirement already satisfied: googleapis-common-protos<2.0.dev0,>=1.56.2 in /usr/local/lib/python3.10/dist-packages (from google-api-core!=2.0.*,!=2.1.*,!=2.2.*,!=2.3.0,<3.0.0dev,>=1.31.5->google-cloud-storage) (1.60.0)\n",
            "Requirement already satisfied: protobuf!=3.20.0,!=3.20.1,!=4.21.0,!=4.21.1,!=4.21.2,!=4.21.3,!=4.21.4,!=4.21.5,<5.0.0.dev0,>=3.19.5 in /usr/local/lib/python3.10/dist-packages (from google-api-core!=2.0.*,!=2.1.*,!=2.2.*,!=2.3.0,<3.0.0dev,>=1.31.5->google-cloud-storage) (3.20.3)\n",
            "Requirement already satisfied: cachetools<6.0,>=2.0.0 in /usr/local/lib/python3.10/dist-packages (from google-auth<3.0dev,>=1.25.0->google-cloud-storage) (5.3.1)\n",
            "Requirement already satisfied: pyasn1-modules>=0.2.1 in /usr/local/lib/python3.10/dist-packages (from google-auth<3.0dev,>=1.25.0->google-cloud-storage) (0.3.0)\n",
            "Requirement already satisfied: six>=1.9.0 in /usr/local/lib/python3.10/dist-packages (from google-auth<3.0dev,>=1.25.0->google-cloud-storage) (1.16.0)\n",
            "Requirement already satisfied: rsa<5,>=3.1.4 in /usr/local/lib/python3.10/dist-packages (from google-auth<3.0dev,>=1.25.0->google-cloud-storage) (4.9)\n",
            "Requirement already satisfied: google-crc32c<2.0dev,>=1.0 in /usr/local/lib/python3.10/dist-packages (from google-resumable-media>=2.3.2->google-cloud-storage) (1.5.0)\n",
            "Requirement already satisfied: charset-normalizer<4,>=2 in /usr/local/lib/python3.10/dist-packages (from requests<3.0.0dev,>=2.18.0->google-cloud-storage) (3.3.0)\n",
            "Requirement already satisfied: idna<4,>=2.5 in /usr/local/lib/python3.10/dist-packages (from requests<3.0.0dev,>=2.18.0->google-cloud-storage) (3.4)\n",
            "Requirement already satisfied: urllib3<3,>=1.21.1 in /usr/local/lib/python3.10/dist-packages (from requests<3.0.0dev,>=2.18.0->google-cloud-storage) (2.0.6)\n",
            "Requirement already satisfied: certifi>=2017.4.17 in /usr/local/lib/python3.10/dist-packages (from requests<3.0.0dev,>=2.18.0->google-cloud-storage) (2023.7.22)\n",
            "Requirement already satisfied: pyasn1<0.6.0,>=0.4.6 in /usr/local/lib/python3.10/dist-packages (from pyasn1-modules>=0.2.1->google-auth<3.0dev,>=1.25.0->google-cloud-storage) (0.5.0)\n"
          ]
        }
      ],
      "source": [
        "!pip install google-cloud-storage"
      ]
    },
    {
      "cell_type": "code",
      "source": [
        "from google.cloud import storage\n",
        "\n",
        "# Replace with your Google Cloud Storage credentials file path\n",
        "credentials_file = \"credentials.json\"\n",
        "\n",
        "# Initialize a client using your credentials\n",
        "storage_client = storage.Client.from_service_account_json(credentials_file)\n",
        "\n",
        "dir(storage_client)\n",
        "\n",
        "\n",
        "\n"
      ],
      "metadata": {
        "colab": {
          "base_uri": "https://localhost:8080/"
        },
        "id": "Kt1FC6NMalnd",
        "outputId": "83938608-2b80-434c-e628-9704793d75bb"
      },
      "execution_count": 18,
      "outputs": [
        {
          "output_type": "execute_result",
          "data": {
            "text/plain": [
              "['SCOPE',\n",
              " '_SET_PROJECT',\n",
              " '__annotations__',\n",
              " '__class__',\n",
              " '__delattr__',\n",
              " '__dict__',\n",
              " '__dir__',\n",
              " '__doc__',\n",
              " '__eq__',\n",
              " '__format__',\n",
              " '__ge__',\n",
              " '__getattribute__',\n",
              " '__getstate__',\n",
              " '__gt__',\n",
              " '__hash__',\n",
              " '__init__',\n",
              " '__init_subclass__',\n",
              " '__le__',\n",
              " '__lt__',\n",
              " '__module__',\n",
              " '__ne__',\n",
              " '__new__',\n",
              " '__reduce__',\n",
              " '__reduce_ex__',\n",
              " '__repr__',\n",
              " '__setattr__',\n",
              " '__sizeof__',\n",
              " '__str__',\n",
              " '__subclasshook__',\n",
              " '__weakref__',\n",
              " '_base_connection',\n",
              " '_batch_stack',\n",
              " '_bucket_arg_to_bucket',\n",
              " '_client_cert_source',\n",
              " '_connection',\n",
              " '_credentials',\n",
              " '_delete_resource',\n",
              " '_determine_default',\n",
              " '_get_resource',\n",
              " '_http',\n",
              " '_http_internal',\n",
              " '_initial_client_info',\n",
              " '_initial_client_options',\n",
              " '_list_resource',\n",
              " '_patch_resource',\n",
              " '_pop_batch',\n",
              " '_post_resource',\n",
              " '_push_batch',\n",
              " '_put_resource',\n",
              " 'batch',\n",
              " 'bucket',\n",
              " 'close',\n",
              " 'create_anonymous_client',\n",
              " 'create_bucket',\n",
              " 'create_hmac_key',\n",
              " 'current_batch',\n",
              " 'download_blob_to_file',\n",
              " 'from_service_account_info',\n",
              " 'from_service_account_json',\n",
              " 'generate_signed_post_policy_v4',\n",
              " 'get_bucket',\n",
              " 'get_hmac_key_metadata',\n",
              " 'get_service_account_email',\n",
              " 'list_blobs',\n",
              " 'list_buckets',\n",
              " 'list_hmac_keys',\n",
              " 'lookup_bucket',\n",
              " 'project']"
            ]
          },
          "metadata": {},
          "execution_count": 18
        }
      ]
    },
    {
      "cell_type": "code",
      "source": [
        "from google.cloud import storage\n",
        "from google.colab import auth\n",
        "\n",
        "auth.authenticate_user()"
      ],
      "metadata": {
        "id": "y21z_REkh0CO"
      },
      "execution_count": 17,
      "outputs": []
    },
    {
      "cell_type": "code",
      "source": [
        "# Create a new bucket\n",
        "storage_client = storage.Client()\n",
        "def create_bucket(bucket_name):\n",
        "    try:\n",
        "        bucket = storage_client.bucket(bucket_name)\n",
        "        if not bucket.exists():\n",
        "            bucket.create()\n",
        "            print(f\"Bucket '{bucket_name}' created successfully.\")\n",
        "        else:\n",
        "            print(f\"Bucket '{bucket_name}' already exists.\")\n",
        "    except Exception as e:\n",
        "        print(f\"Error creating bucket: {e}\")\n"
      ],
      "metadata": {
        "id": "aV-jFxT2atTm"
      },
      "execution_count": 19,
      "outputs": []
    },
    {
      "cell_type": "code",
      "source": [
        "# Upload a file to a bucket\n",
        "def upload_file(bucket_name, source_file_name, destination_blob_name):\n",
        "    try:\n",
        "        bucket = storage_client.bucket(bucket_name)\n",
        "        blob = bucket.blob(destination_blob_name)\n",
        "        blob.upload_from_filename(source_file_name)\n",
        "        print(f\"File '{source_file_name}' uploaded to '{destination_blob_name}' in '{bucket_name}'\")\n",
        "    except Exception as e:\n",
        "        print(f\"Error uploading file: {e}\")"
      ],
      "metadata": {
        "id": "wXkhOlnmaufT"
      },
      "execution_count": 20,
      "outputs": []
    },
    {
      "cell_type": "code",
      "source": [
        "# Delete a file from a bucket\n",
        "def delete_file(bucket_name, blob_name):\n",
        "    try:\n",
        "        bucket = storage_client.bucket(bucket_name)\n",
        "        blob = bucket.blob(blob_name)\n",
        "        if blob.exists():\n",
        "            blob.delete()\n",
        "            print(f\"File '{blob_name}' deleted from '{bucket_name}'\")\n",
        "        else:\n",
        "            print(f\"File '{blob_name}' does not exist in '{bucket_name}'\")\n",
        "    except Exception as e:\n",
        "        print(f\"Error deleting file: {e}\")"
      ],
      "metadata": {
        "id": "5ybApHxOa3ZX"
      },
      "execution_count": 21,
      "outputs": []
    },
    {
      "cell_type": "code",
      "source": [
        "\n",
        "# Main program\n",
        "if __name__ == \"__main__\":\n",
        "    bucket_name = \"samplebucket-03\"  # Replace with your desired bucket name\n",
        "    source_file = \"/path/knn-transformed.png\"  # Replace with the file you want to upload\n",
        "    destination_blob = \"MLAlgo\"  # The name for the file in the bucket\n",
        "\n",
        "    #create_bucket(bucket_name)\n",
        "    upload_file(bucket_name, source_file, destination_blob)\n",
        "    #delete_file(bucket_name, destination_blob)\n"
      ],
      "metadata": {
        "colab": {
          "base_uri": "https://localhost:8080/"
        },
        "id": "cffq0aGwa6aA",
        "outputId": "34059c1b-52ca-4c40-c512-f6a56d53443f"
      },
      "execution_count": 23,
      "outputs": [
        {
          "output_type": "stream",
          "name": "stdout",
          "text": [
            "Error uploading file: [Errno 2] No such file or directory: '/path/knn-transformed.png'\n"
          ]
        }
      ]
    },
    {
      "cell_type": "code",
      "source": [],
      "metadata": {
        "id": "n9s5KVyKbJkf"
      },
      "execution_count": null,
      "outputs": []
    }
  ]
}