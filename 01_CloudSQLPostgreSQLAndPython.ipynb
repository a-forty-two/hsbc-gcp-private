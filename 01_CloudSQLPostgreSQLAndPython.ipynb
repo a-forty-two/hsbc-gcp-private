{
  "nbformat": 4,
  "nbformat_minor": 0,
  "metadata": {
    "colab": {
      "provenance": [],
      "toc_visible": true
    },
    "kernelspec": {
      "name": "python3",
      "display_name": "Python 3"
    },
    "language_info": {
      "name": "python"
    }
  },
  "cells": [
    {
      "cell_type": "code",
      "execution_count": 8,
      "metadata": {
        "colab": {
          "base_uri": "https://localhost:8080/"
        },
        "id": "xBwbKwzMLwjb",
        "outputId": "0ffee565-0871-4d88-ef16-5d066baf35f4"
      },
      "outputs": [
        {
          "output_type": "stream",
          "name": "stdout",
          "text": [
            "Requirement already satisfied: cloud-sql-python-connector[pg8000] in /usr/local/lib/python3.10/dist-packages (1.4.2)\n",
            "Requirement already satisfied: SQLAlchemy==2.0.7 in /usr/local/lib/python3.10/dist-packages (2.0.7)\n",
            "Requirement already satisfied: typing-extensions>=4.2.0 in /usr/local/lib/python3.10/dist-packages (from SQLAlchemy==2.0.7) (4.5.0)\n",
            "Requirement already satisfied: greenlet!=0.4.17 in /usr/local/lib/python3.10/dist-packages (from SQLAlchemy==2.0.7) (3.0.0)\n",
            "Requirement already satisfied: aiohttp in /usr/local/lib/python3.10/dist-packages (from cloud-sql-python-connector[pg8000]) (3.8.6)\n",
            "Requirement already satisfied: cryptography>=38.0.3 in /usr/local/lib/python3.10/dist-packages (from cloud-sql-python-connector[pg8000]) (41.0.4)\n",
            "Requirement already satisfied: Requests in /usr/local/lib/python3.10/dist-packages (from cloud-sql-python-connector[pg8000]) (2.31.0)\n",
            "Requirement already satisfied: google-auth in /usr/local/lib/python3.10/dist-packages (from cloud-sql-python-connector[pg8000]) (2.17.3)\n",
            "Requirement already satisfied: pg8000==1.30.2 in /usr/local/lib/python3.10/dist-packages (from cloud-sql-python-connector[pg8000]) (1.30.2)\n",
            "Requirement already satisfied: scramp>=1.4.4 in /usr/local/lib/python3.10/dist-packages (from pg8000==1.30.2->cloud-sql-python-connector[pg8000]) (1.4.4)\n",
            "Requirement already satisfied: python-dateutil>=2.8.2 in /usr/local/lib/python3.10/dist-packages (from pg8000==1.30.2->cloud-sql-python-connector[pg8000]) (2.8.2)\n",
            "Requirement already satisfied: cffi>=1.12 in /usr/local/lib/python3.10/dist-packages (from cryptography>=38.0.3->cloud-sql-python-connector[pg8000]) (1.16.0)\n",
            "Requirement already satisfied: attrs>=17.3.0 in /usr/local/lib/python3.10/dist-packages (from aiohttp->cloud-sql-python-connector[pg8000]) (23.1.0)\n",
            "Requirement already satisfied: charset-normalizer<4.0,>=2.0 in /usr/local/lib/python3.10/dist-packages (from aiohttp->cloud-sql-python-connector[pg8000]) (3.3.0)\n",
            "Requirement already satisfied: multidict<7.0,>=4.5 in /usr/local/lib/python3.10/dist-packages (from aiohttp->cloud-sql-python-connector[pg8000]) (6.0.4)\n",
            "Requirement already satisfied: async-timeout<5.0,>=4.0.0a3 in /usr/local/lib/python3.10/dist-packages (from aiohttp->cloud-sql-python-connector[pg8000]) (4.0.3)\n",
            "Requirement already satisfied: yarl<2.0,>=1.0 in /usr/local/lib/python3.10/dist-packages (from aiohttp->cloud-sql-python-connector[pg8000]) (1.9.2)\n",
            "Requirement already satisfied: frozenlist>=1.1.1 in /usr/local/lib/python3.10/dist-packages (from aiohttp->cloud-sql-python-connector[pg8000]) (1.4.0)\n",
            "Requirement already satisfied: aiosignal>=1.1.2 in /usr/local/lib/python3.10/dist-packages (from aiohttp->cloud-sql-python-connector[pg8000]) (1.3.1)\n",
            "Requirement already satisfied: cachetools<6.0,>=2.0.0 in /usr/local/lib/python3.10/dist-packages (from google-auth->cloud-sql-python-connector[pg8000]) (5.3.1)\n",
            "Requirement already satisfied: pyasn1-modules>=0.2.1 in /usr/local/lib/python3.10/dist-packages (from google-auth->cloud-sql-python-connector[pg8000]) (0.3.0)\n",
            "Requirement already satisfied: six>=1.9.0 in /usr/local/lib/python3.10/dist-packages (from google-auth->cloud-sql-python-connector[pg8000]) (1.16.0)\n",
            "Requirement already satisfied: rsa<5,>=3.1.4 in /usr/local/lib/python3.10/dist-packages (from google-auth->cloud-sql-python-connector[pg8000]) (4.9)\n",
            "Requirement already satisfied: idna<4,>=2.5 in /usr/local/lib/python3.10/dist-packages (from Requests->cloud-sql-python-connector[pg8000]) (3.4)\n",
            "Requirement already satisfied: urllib3<3,>=1.21.1 in /usr/local/lib/python3.10/dist-packages (from Requests->cloud-sql-python-connector[pg8000]) (2.0.6)\n",
            "Requirement already satisfied: certifi>=2017.4.17 in /usr/local/lib/python3.10/dist-packages (from Requests->cloud-sql-python-connector[pg8000]) (2023.7.22)\n",
            "Requirement already satisfied: pycparser in /usr/local/lib/python3.10/dist-packages (from cffi>=1.12->cryptography>=38.0.3->cloud-sql-python-connector[pg8000]) (2.21)\n",
            "Requirement already satisfied: pyasn1<0.6.0,>=0.4.6 in /usr/local/lib/python3.10/dist-packages (from pyasn1-modules>=0.2.1->google-auth->cloud-sql-python-connector[pg8000]) (0.5.0)\n",
            "Requirement already satisfied: asn1crypto>=1.5.1 in /usr/local/lib/python3.10/dist-packages (from scramp>=1.4.4->pg8000==1.30.2->cloud-sql-python-connector[pg8000]) (1.5.1)\n"
          ]
        }
      ],
      "source": [
        "import sys\n",
        "!{sys.executable} -m pip install cloud-sql-python-connector[\"pg8000\"] SQLAlchemy==2.0.7"
      ]
    },
    {
      "cell_type": "code",
      "source": [
        "from google.colab import auth\n",
        "\n",
        "auth.authenticate_user()"
      ],
      "metadata": {
        "id": "WDYd11xjO5Ad",
        "colab": {
          "base_uri": "https://localhost:8080/",
          "height": 357
        },
        "outputId": "953d8941-362f-4b3f-ceea-d2fdb9b91da6"
      },
      "execution_count": 13,
      "outputs": [
        {
          "output_type": "error",
          "ename": "MessageError",
          "evalue": "ignored",
          "traceback": [
            "\u001b[0;31m---------------------------------------------------------------------------\u001b[0m",
            "\u001b[0;31mMessageError\u001b[0m                              Traceback (most recent call last)",
            "\u001b[0;32m<ipython-input-13-0c5a8f56b6df>\u001b[0m in \u001b[0;36m<cell line: 3>\u001b[0;34m()\u001b[0m\n\u001b[1;32m      1\u001b[0m \u001b[0;32mfrom\u001b[0m \u001b[0mgoogle\u001b[0m\u001b[0;34m.\u001b[0m\u001b[0mcolab\u001b[0m \u001b[0;32mimport\u001b[0m \u001b[0mauth\u001b[0m\u001b[0;34m\u001b[0m\u001b[0;34m\u001b[0m\u001b[0m\n\u001b[1;32m      2\u001b[0m \u001b[0;34m\u001b[0m\u001b[0m\n\u001b[0;32m----> 3\u001b[0;31m \u001b[0mauth\u001b[0m\u001b[0;34m.\u001b[0m\u001b[0mauthenticate_user\u001b[0m\u001b[0;34m(\u001b[0m\u001b[0;34m)\u001b[0m\u001b[0;34m\u001b[0m\u001b[0;34m\u001b[0m\u001b[0m\n\u001b[0m",
            "\u001b[0;32m/usr/local/lib/python3.10/dist-packages/google/colab/auth.py\u001b[0m in \u001b[0;36mauthenticate_user\u001b[0;34m(clear_output, project_id)\u001b[0m\n\u001b[1;32m    279\u001b[0m   \u001b[0;32mif\u001b[0m \u001b[0;32mnot\u001b[0m \u001b[0m_check_adc\u001b[0m\u001b[0;34m(\u001b[0m\u001b[0m_CredentialType\u001b[0m\u001b[0;34m.\u001b[0m\u001b[0mUSER\u001b[0m\u001b[0;34m)\u001b[0m\u001b[0;34m:\u001b[0m\u001b[0;34m\u001b[0m\u001b[0;34m\u001b[0m\u001b[0m\n\u001b[1;32m    280\u001b[0m     \u001b[0;32mif\u001b[0m \u001b[0muse_auth_ephem\u001b[0m\u001b[0;34m:\u001b[0m\u001b[0;34m\u001b[0m\u001b[0;34m\u001b[0m\u001b[0m\n\u001b[0;32m--> 281\u001b[0;31m       _message.blocking_request(\n\u001b[0m\u001b[1;32m    282\u001b[0m           \u001b[0;34m'request_auth'\u001b[0m\u001b[0;34m,\u001b[0m\u001b[0;34m\u001b[0m\u001b[0;34m\u001b[0m\u001b[0m\n\u001b[1;32m    283\u001b[0m           \u001b[0mrequest\u001b[0m\u001b[0;34m=\u001b[0m\u001b[0;34m{\u001b[0m\u001b[0;34m'authType'\u001b[0m\u001b[0;34m:\u001b[0m \u001b[0;34m'auth_user_ephemeral'\u001b[0m\u001b[0;34m}\u001b[0m\u001b[0;34m,\u001b[0m\u001b[0;34m\u001b[0m\u001b[0;34m\u001b[0m\u001b[0m\n",
            "\u001b[0;32m/usr/local/lib/python3.10/dist-packages/google/colab/_message.py\u001b[0m in \u001b[0;36mblocking_request\u001b[0;34m(request_type, request, timeout_sec, parent)\u001b[0m\n\u001b[1;32m    174\u001b[0m       \u001b[0mrequest_type\u001b[0m\u001b[0;34m,\u001b[0m \u001b[0mrequest\u001b[0m\u001b[0;34m,\u001b[0m \u001b[0mparent\u001b[0m\u001b[0;34m=\u001b[0m\u001b[0mparent\u001b[0m\u001b[0;34m,\u001b[0m \u001b[0mexpect_reply\u001b[0m\u001b[0;34m=\u001b[0m\u001b[0;32mTrue\u001b[0m\u001b[0;34m\u001b[0m\u001b[0;34m\u001b[0m\u001b[0m\n\u001b[1;32m    175\u001b[0m   )\n\u001b[0;32m--> 176\u001b[0;31m   \u001b[0;32mreturn\u001b[0m \u001b[0mread_reply_from_input\u001b[0m\u001b[0;34m(\u001b[0m\u001b[0mrequest_id\u001b[0m\u001b[0;34m,\u001b[0m \u001b[0mtimeout_sec\u001b[0m\u001b[0;34m)\u001b[0m\u001b[0;34m\u001b[0m\u001b[0;34m\u001b[0m\u001b[0m\n\u001b[0m",
            "\u001b[0;32m/usr/local/lib/python3.10/dist-packages/google/colab/_message.py\u001b[0m in \u001b[0;36mread_reply_from_input\u001b[0;34m(message_id, timeout_sec)\u001b[0m\n\u001b[1;32m    101\u001b[0m     ):\n\u001b[1;32m    102\u001b[0m       \u001b[0;32mif\u001b[0m \u001b[0;34m'error'\u001b[0m \u001b[0;32min\u001b[0m \u001b[0mreply\u001b[0m\u001b[0;34m:\u001b[0m\u001b[0;34m\u001b[0m\u001b[0;34m\u001b[0m\u001b[0m\n\u001b[0;32m--> 103\u001b[0;31m         \u001b[0;32mraise\u001b[0m \u001b[0mMessageError\u001b[0m\u001b[0;34m(\u001b[0m\u001b[0mreply\u001b[0m\u001b[0;34m[\u001b[0m\u001b[0;34m'error'\u001b[0m\u001b[0;34m]\u001b[0m\u001b[0;34m)\u001b[0m\u001b[0;34m\u001b[0m\u001b[0;34m\u001b[0m\u001b[0m\n\u001b[0m\u001b[1;32m    104\u001b[0m       \u001b[0;32mreturn\u001b[0m \u001b[0mreply\u001b[0m\u001b[0;34m.\u001b[0m\u001b[0mget\u001b[0m\u001b[0;34m(\u001b[0m\u001b[0;34m'data'\u001b[0m\u001b[0;34m,\u001b[0m \u001b[0;32mNone\u001b[0m\u001b[0;34m)\u001b[0m\u001b[0;34m\u001b[0m\u001b[0;34m\u001b[0m\u001b[0m\n\u001b[1;32m    105\u001b[0m \u001b[0;34m\u001b[0m\u001b[0m\n",
            "\u001b[0;31mMessageError\u001b[0m: Error: credential propagation was unsuccessful"
          ]
        }
      ]
    },
    {
      "cell_type": "code",
      "source": [
        "INSTANCE_CONNECTION_NAME = f\"united-lane-402314:us-central1:emp-db\"\n",
        "print(f\"Your instance connection name is: {INSTANCE_CONNECTION_NAME}\")\n",
        "DB_USER = \"postgres\"\n",
        "DB_PASS = \"abc123!\"\n",
        "DB_NAME = \"postgres\""
      ],
      "metadata": {
        "colab": {
          "base_uri": "https://localhost:8080/"
        },
        "id": "JNyG_pRuLzhb",
        "outputId": "d2c32455-1e98-4683-d640-c30a7fcb906a"
      },
      "execution_count": 12,
      "outputs": [
        {
          "output_type": "stream",
          "name": "stdout",
          "text": [
            "Your instance connection name is: united-lane-402314:us-central1:emp-db\n"
          ]
        }
      ]
    },
    {
      "cell_type": "code",
      "source": [
        "from google.cloud.sql.connector import Connector\n",
        "import sqlalchemy\n",
        "\n",
        "# initialize Connector object\n",
        "connector = Connector()\n",
        "\n",
        "# function to return the database connection object\n",
        "def getconn():\n",
        "    conn = connector.connect(\n",
        "        INSTANCE_CONNECTION_NAME,\n",
        "        \"pg8000\",\n",
        "        user=DB_USER,\n",
        "        password=DB_PASS,\n",
        "        db=DB_NAME\n",
        "    )\n",
        "    return conn\n",
        "\n",
        "# create connection pool with 'creator' argument to our connection object function\n",
        "pool = sqlalchemy.create_engine(\n",
        "    \"postgresql+pg8000://\",\n",
        "    creator=getconn,\n",
        ")"
      ],
      "metadata": {
        "id": "wjDD5eAmMGOr"
      },
      "execution_count": null,
      "outputs": []
    },
    {
      "cell_type": "code",
      "source": [
        "# connect to connection pool\n",
        "with pool.connect() as db_conn:\n",
        "  # create ratings table in our sandwiches database\n",
        "  db_conn.execute(\n",
        "    sqlalchemy.text(\n",
        "      \"CREATE TABLE IF NOT EXISTS ratings \"\n",
        "      \"( id SERIAL NOT NULL, name VARCHAR(255) NOT NULL, \"\n",
        "      \"origin VARCHAR(255) NOT NULL, rating FLOAT NOT NULL, \"\n",
        "      \"PRIMARY KEY (id));\"\n",
        "    )\n",
        "  )\n",
        "\n",
        "  # commit transaction (SQLAlchemy v2.X.X is commit as you go)\n",
        "  db_conn.commit()\n",
        "\n",
        "  # insert data into our ratings table\n",
        "  insert_stmt = sqlalchemy.text(\n",
        "      \"INSERT INTO ratings (name, origin, rating) VALUES (:name, :origin, :rating)\",\n",
        "  )\n",
        "\n",
        "  # insert entries into table\n",
        "  db_conn.execute(insert_stmt, parameters={\"name\": \"HOTDOG\", \"origin\": \"Germany\", \"rating\": 7.5})\n",
        "  db_conn.execute(insert_stmt, parameters={\"name\": \"BÀNH MÌ\", \"origin\": \"Vietnam\", \"rating\": 9.1})\n",
        "  db_conn.execute(insert_stmt, parameters={\"name\": \"CROQUE MADAME\", \"origin\": \"France\", \"rating\": 8.3})\n",
        "\n",
        "  # commit transactions\n",
        "  db_conn.commit()\n",
        "\n",
        "  # query and fetch ratings table\n",
        "  results = db_conn.execute(sqlalchemy.text(\"SELECT * FROM ratings\")).fetchall()\n",
        "\n",
        "  # show results\n",
        "  for row in results:\n",
        "    print(row)"
      ],
      "metadata": {
        "colab": {
          "base_uri": "https://localhost:8080/"
        },
        "id": "_G6plLwwMMoZ",
        "outputId": "4d6eb1f3-b190-4a60-fe90-c1ae186d7535"
      },
      "execution_count": null,
      "outputs": [
        {
          "output_type": "stream",
          "name": "stdout",
          "text": [
            "(1, 'HOTDOG', 'Germany', 7.5)\n",
            "(2, 'BÀNH MÌ', 'Vietnam', 9.1)\n",
            "(3, 'CROQUE MADAME', 'France', 8.3)\n"
          ]
        }
      ]
    },
    {
      "cell_type": "code",
      "source": [],
      "metadata": {
        "id": "f3XInjbRMTmg"
      },
      "execution_count": null,
      "outputs": []
    }
  ]
}